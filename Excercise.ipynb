{
 "cells": [
  {
   "cell_type": "code",
   "execution_count": 2,
   "metadata": {},
   "outputs": [],
   "source": [
    "import math\n"
   ]
  },
  {
   "cell_type": "code",
   "execution_count": 7,
   "metadata": {},
   "outputs": [
    {
     "data": {
      "text/plain": [
       "0.8509035245341184"
      ]
     },
     "execution_count": 7,
     "metadata": {},
     "output_type": "execute_result"
    }
   ],
   "source": [
    "math.sin(45)"
   ]
  },
  {
   "cell_type": "code",
   "execution_count": 8,
   "metadata": {},
   "outputs": [
    {
     "data": {
      "text/plain": [
       "3.141592653589793"
      ]
     },
     "execution_count": 8,
     "metadata": {},
     "output_type": "execute_result"
    }
   ],
   "source": [
    "math.pi"
   ]
  },
  {
   "cell_type": "code",
   "execution_count": 9,
   "metadata": {},
   "outputs": [
    {
     "data": {
      "text/plain": [
       "5.0"
      ]
     },
     "execution_count": 9,
     "metadata": {},
     "output_type": "execute_result"
    }
   ],
   "source": [
    "math.sqrt(25)"
   ]
  },
  {
   "cell_type": "code",
   "execution_count": 33,
   "metadata": {},
   "outputs": [
    {
     "name": "stdout",
     "output_type": "stream",
     "text": [
      "{'RAM': 97, 'RATNA': 100, 'HARSHA': 40} {'********balu********': 27, '******krishna*******': 20}\n"
     ]
    }
   ],
   "source": [
    "#Excercise :\n",
    "marks={'balu': 22, 'ram':92, 'krishna':15, 'ratna':95, 'harsha':35}\n",
    "#1. you can separte pass students dict and fail students dictionary\n",
    "#2. you can add 5 marks to each student and separate again \n",
    "#3. students names convert in to upper letter. \n",
    "pass_students={}\n",
    "fail_students={}\n",
    "marks.values()\n",
    "marks.keys()\n",
    "marks.items()\n",
    "\n",
    "for i,j in marks.items():\n",
    "    j=j+5\n",
    "\n",
    "    if j>=37:\n",
    "        pass_students[i.upper()]=j\n",
    "    else:\n",
    "        fail_students[i.center(20,'*')]=j\n",
    "print(pass_students, fail_students)"
   ]
  },
  {
   "cell_type": "code",
   "execution_count": 3,
   "metadata": {},
   "outputs": [],
   "source": [
    "#Excercise: \n",
    "pyth=[[10, 20, 30], ('vaib', 'Guna', 'vaib'), ['Thursday', 'Friday'], {'Vik', 'Selva'}, {1101:'kal', 1102:'mart'}]\n",
    "#1. add monday to in the weekday\n",
    "#2. I want to add 40 in the nrs list \n",
    "#3. I want to upper all weekday \n",
    "#4. add sharma to vik and selva batch \n",
    "#5. in a dictionary make values capitals "
   ]
  },
  {
   "cell_type": "code",
   "execution_count": 9,
   "metadata": {},
   "outputs": [
    {
     "name": "stdout",
     "output_type": "stream",
     "text": [
      "[10, 20, 30, 40, 50, 60, 70, 80, 100, 90, 110, 120]\n"
     ]
    }
   ],
   "source": [
    "list2=[10, 20, 30, 40, 50, 60, 70, 80,30, 20, 40, 60, 100, 90, 110, 120, 110, 50]\n",
    "#remove duplicate values \n",
    "\n",
    "list2 = [10, 20, 30, 40, 50, 60, 70, 80,30, 20, 40, 60, 100, 90, 110, 120, 110, 50]\n",
    "\n",
    "myNewList = []\n",
    "for x in list2:\n",
    "    if x not in myNewList:\n",
    "        myNewList.append(x)\n",
    "print(myNewList)\n",
    "\n",
    "\n",
    "\n",
    "        \n",
    "    \n",
    "\n",
    "\n"
   ]
  },
  {
   "cell_type": "code",
   "execution_count": 40,
   "metadata": {},
   "outputs": [
    {
     "name": "stdout",
     "output_type": "stream",
     "text": [
      "{100, 70, 40, 10, 110, 80, 50, 20, 120, 90, 60, 30}\n",
      "[100, 70, 40, 10, 110, 80, 50, 20, 120, 90, 60, 30]\n",
      "[10, 20, 30, 40, 50, 60, 70, 80, 90, 100, 110, 120]\n"
     ]
    }
   ],
   "source": [
    "list2=[10, 20, 30, 40, 50, 60, 70, 80,30, 20, 40, 60, 100, 90, 110, 120, 110, 50]\n",
    "set1=set(list2)# converting list into set\n",
    "print(set1)\n",
    "updated_list =list(set1)# converting from set to list\n",
    "print(updated_list)\n",
    "updated_list.sort()\n",
    "print(updated_list)\n"
   ]
  },
  {
   "cell_type": "code",
   "execution_count": null,
   "metadata": {},
   "outputs": [],
   "source": []
  },
  {
   "cell_type": "code",
   "execution_count": 35,
   "metadata": {},
   "outputs": [
    {
     "name": "stdout",
     "output_type": "stream",
     "text": [
      "{100: 'a', 200: 'b', 300: 'c'}\n"
     ]
    }
   ],
   "source": [
    "dict1={'a':100, 'b':200, 'c':300}\n",
    "#op should be {100:'a', 200:'b', 300:'c'} \n",
    "newDict={}\n",
    "for i,j in dict1.items():\n",
    "    newDict[j]=i\n",
    "    \n",
    "print(newDict)\n",
    "\n",
    "\n",
    "\n",
    "\n"
   ]
  },
  {
   "cell_type": "code",
   "execution_count": 1,
   "metadata": {},
   "outputs": [
    {
     "name": "stdout",
     "output_type": "stream",
     "text": [
      "['__add__', '__class__', '__contains__', '__delattr__', '__delitem__', '__dir__', '__doc__', '__eq__', '__format__', '__ge__', '__getattribute__', '__getitem__', '__gt__', '__hash__', '__iadd__', '__imul__', '__init__', '__init_subclass__', '__iter__', '__le__', '__len__', '__lt__', '__mul__', '__ne__', '__new__', '__reduce__', '__reduce_ex__', '__repr__', '__reversed__', '__rmul__', '__setattr__', '__setitem__', '__sizeof__', '__str__', '__subclasshook__', 'append', 'clear', 'copy', 'count', 'extend', 'index', 'insert', 'pop', 'remove', 'reverse', 'sort']\n"
     ]
    }
   ],
   "source": [
    "print (dir(list))"
   ]
  }
 ],
 "metadata": {
  "kernelspec": {
   "display_name": "Python 3 (ipykernel)",
   "language": "python",
   "name": "python3"
  },
  "language_info": {
   "codemirror_mode": {
    "name": "ipython",
    "version": 3
   },
   "file_extension": ".py",
   "mimetype": "text/x-python",
   "name": "python",
   "nbconvert_exporter": "python",
   "pygments_lexer": "ipython3",
   "version": "3.9.7"
  }
 },
 "nbformat": 4,
 "nbformat_minor": 4
}
