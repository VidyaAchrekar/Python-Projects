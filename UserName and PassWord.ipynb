{
 "cells": [
  {
   "cell_type": "code",
   "execution_count": 1,
   "metadata": {},
   "outputs": [
    {
     "name": "stdout",
     "output_type": "stream",
     "text": [
      "What is your username?\n",
      "always happy in Copenhagen\n",
      "Password?\n",
      "123456wordpass\n",
      "Welcome!\n"
     ]
    }
   ],
   "source": [
    "username = 'always happy in Copenhagen'\n",
    "\n",
    "password = '123456wordpass'\n",
    "\n",
    "userInput = input(\"What is your username?\\n\")\n",
    "\n",
    "if userInput == username:\n",
    "    a=input(\"Password?\\n\")   \n",
    "    if a == password:\n",
    "        print(\"Welcome to Volkswage CarAPP!\")\n",
    "    else:\n",
    "        print(\"You have entered a wrong password.\")\n",
    "else:\n",
    "    print(\"You have entered a wrong username.\")"
   ]
  }
 ],
 "metadata": {
  "kernelspec": {
   "display_name": "Python 3 (ipykernel)",
   "language": "python",
   "name": "python3"
  },
  "language_info": {
   "codemirror_mode": {
    "name": "ipython",
    "version": 3
   },
   "file_extension": ".py",
   "mimetype": "text/x-python",
   "name": "python",
   "nbconvert_exporter": "python",
   "pygments_lexer": "ipython3",
   "version": "3.9.7"
  }
 },
 "nbformat": 4,
 "nbformat_minor": 4
}
