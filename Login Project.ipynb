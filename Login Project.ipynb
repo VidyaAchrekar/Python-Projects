{
 "cells": [
  {
   "cell_type": "code",
   "execution_count": 1,
   "metadata": {},
   "outputs": [],
   "source": []
  },
  {
   "cell_type": "code",
   "execution_count": 2,
   "metadata": {},
   "outputs": [],
   "source": [
    "#Data\n",
    "user_id =['chaitanya', 'surakshith', 'achyuth', 'aasha' ]\n",
    "password =['chaitanya007', 'surakshith007', 'achyuth007', 'aasha007']\n",
    "phone_nr =[60006, 70007, 80008, 90009]\n",
    "bank_balance = [10000, 12000, 13000, 14000]"
   ]
  },
  {
   "cell_type": "code",
   "execution_count": 5,
   "metadata": {},
   "outputs": [
    {
     "name": "stdout",
     "output_type": "stream",
     "text": [
      "Do you want to login in application (y/n):y\n",
      "Enter your user name: ajvd\n",
      "User name is not existing\n",
      "You entered wrong user id, you have  2 chances\n",
      "Enter your user name:WEYFAV\n",
      "User name is not existing\n",
      "You entered wrong user id, you have  1 chances\n",
      "Enter your user name:aasha\n",
      "Yes your user name in our system\n",
      "The position of user_name is at: 3\n",
      "Enter your password:aashasdJZVguk\n",
      "wrong password :\n",
      "Enter your user name:aasha\n",
      "Yes your user name in our system\n",
      "The position of user_name is at: 3\n",
      "Enter your password:aasha007\n",
      "user name and password are matching:\n",
      "Enter your phone_nr:30003\n",
      "Wrong mobile\n",
      "Enter your user name:aasha\n",
      "Yes your user name in our system\n",
      "The position of user_name is at: 3\n",
      "Enter your password:aasha007\n",
      "user name and password are matching:\n",
      "Enter your phone_nr:90009\n",
      "Mobile nr also matching\n",
      "The random 6 digit otp has generated and sent to your mobile 858004\n",
      "Enter here 6 digit otp:234567\n",
      "Wrong OTP\n",
      "Enter your user name:aasha\n",
      "Yes your user name in our system\n",
      "The position of user_name is at: 3\n",
      "Enter your password:aasha007\n",
      "user name and password are matching:\n",
      "Enter your phone_nr:90009\n",
      "Mobile nr also matching\n",
      "The random 6 digit otp has generated and sent to your mobile 905875\n",
      "Enter here 6 digit otp:905875\n",
      "Login successful\n",
      "The available Bank_balance is: 14000\n",
      "Do you want to re-login in application (y/n):n\n"
     ]
    }
   ],
   "source": [
    "#Module\n",
    "import random as r\n",
    "concern = input('Do you want to login in application (y/n):')\n",
    "attempt = 3\n",
    "while(concern=='y' and attempt>0):\n",
    "    user_name = input('Enter your user name:')\n",
    "    if user_name in user_id:\n",
    "        print ('Yes your user name in our system')\n",
    "        index = user_id.index(user_name)\n",
    "        print ('The position of user_name is at:', index)\n",
    "        pwd = input('Enter your password:')\n",
    "        if (password[index] == pwd):\n",
    "            print ('user name and password are matching:')\n",
    "            mobile_nr=int(input('Enter your phone_nr:'))\n",
    "            if (phone_nr[index]== mobile_nr):\n",
    "                print ('Mobile nr also matching')\n",
    "                system_otp = r.randint(100000, 999999)\n",
    "                print ('The random 6 digit otp has generated and sent to your mobile', system_otp)\n",
    "                otp = int(input('Enter here 6 digit otp:'))\n",
    "                if (system_otp == otp):\n",
    "                    print ('Login successful')\n",
    "                    print ('The available Bank_balance is:', bank_balance[index])\n",
    "                    concern = input('Do you want to re-login in application (y/n):')\n",
    "                else:\n",
    "                    print ('Wrong OTP')\n",
    "            else:\n",
    "                print ('Wrong mobile')\n",
    "        \n",
    "        else:\n",
    "            print ('wrong password :')\n",
    "                \n",
    "                \n",
    "    \n",
    "    else:\n",
    "        print ('User name is not existing')\n",
    "        attempt-=1\n",
    "        print ('You entered wrong user id, you have ', attempt, 'chances')\n",
    "        "
   ]
  },
  {
   "cell_type": "code",
   "execution_count": null,
   "metadata": {},
   "outputs": [],
   "source": []
  }
 ],
 "metadata": {
  "kernelspec": {
   "display_name": "Python 3",
   "language": "python",
   "name": "python3"
  },
  "language_info": {
   "codemirror_mode": {
    "name": "ipython",
    "version": 3
   },
   "file_extension": ".py",
   "mimetype": "text/x-python",
   "name": "python",
   "nbconvert_exporter": "python",
   "pygments_lexer": "ipython3",
   "version": "3.6.5"
  }
 },
 "nbformat": 4,
 "nbformat_minor": 2
}
